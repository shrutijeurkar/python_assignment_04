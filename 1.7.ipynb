{
 "cells": [
  {
   "cell_type": "code",
   "execution_count": 8,
   "metadata": {},
   "outputs": [
    {
     "name": "stdout",
     "output_type": "stream",
     "text": [
      "Duplicate:  7 8   sun_acvjxpbfdkwcyyga.jpg\n",
      "\n",
      "Duplicate:  8 7   sun_acvjxpbfdkwcyyga.jpg\n",
      "\n",
      "Duplicates Found\n"
     ]
    }
   ],
   "source": [
    "def check_duplicate(file_name):\n",
    "    flag = \"Duplicates Not Found\"\n",
    "    with open(file_name) as f:\n",
    "        lines = []\n",
    "        for line in f:\n",
    "            lines.append(line.split('/')[-1])\n",
    "#         print lines\n",
    "        for i in range(len(lines)):\n",
    "            for j in range(len(lines)):\n",
    "                if lines[i]==lines[j]and i !=j:\n",
    "                    flag = \"Duplicates Found\"\n",
    "                    print \"Duplicate: \",i ,j, \" \", lines[i]\n",
    "        print flag\n",
    "        \n",
    "check_duplicate(\"sun.txt\")  "
   ]
  },
  {
   "cell_type": "code",
   "execution_count": null,
   "metadata": {},
   "outputs": [],
   "source": []
  }
 ],
 "metadata": {
  "kernelspec": {
   "display_name": "ml-py",
   "language": "python",
   "name": "ml-py"
  },
  "language_info": {
   "codemirror_mode": {
    "name": "ipython",
    "version": 2
   },
   "file_extension": ".py",
   "mimetype": "text/x-python",
   "name": "python",
   "nbconvert_exporter": "python",
   "pygments_lexer": "ipython2",
   "version": "2.7.12"
  }
 },
 "nbformat": 4,
 "nbformat_minor": 2
}
