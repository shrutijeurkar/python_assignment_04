{
 "cells": [
  {
   "cell_type": "code",
   "execution_count": 1,
   "metadata": {},
   "outputs": [],
   "source": [
    "f1 = open(\"file_A.txt\")\n",
    "f2 = open(\"file_B.txt\")\n",
    "\n",
    "a = [int(i[:-2]) for i in f1]\n",
    "b = [int(i[:-2]) for i in f2]"
   ]
  },
  {
   "cell_type": "code",
   "execution_count": 2,
   "metadata": {},
   "outputs": [],
   "source": [
    "a = set(a)\n",
    "b = set(b)"
   ]
  },
  {
   "cell_type": "code",
   "execution_count": 4,
   "metadata": {},
   "outputs": [
    {
     "name": "stdout",
     "output_type": "stream",
     "text": [
      "common_elements : set([263, 139, 653, 19, 23, 397, 409, 367, 31, 673, 293, 167, 937, 683, 563, 313, 193, 907, 709, 331, 13, 7, 79, 863, 97, 739, 103, 617, 487, 109, 239, 881, 761, 379, 383])\n"
     ]
    }
   ],
   "source": [
    "print \"common_elements :\", a.intersection(b)"
   ]
  },
  {
   "cell_type": "code",
   "execution_count": 5,
   "metadata": {},
   "outputs": [],
   "source": [
    "f1.close()\n",
    "f2.close()"
   ]
  }
 ],
 "metadata": {
  "kernelspec": {
   "display_name": "ml-py",
   "language": "python",
   "name": "ml-py"
  },
  "language_info": {
   "codemirror_mode": {
    "name": "ipython",
    "version": 2
   },
   "file_extension": ".py",
   "mimetype": "text/x-python",
   "name": "python",
   "nbconvert_exporter": "python",
   "pygments_lexer": "ipython2",
   "version": "2.7.12"
  }
 },
 "nbformat": 4,
 "nbformat_minor": 2
}
